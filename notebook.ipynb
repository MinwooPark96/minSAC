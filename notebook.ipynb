{
 "cells": [
  {
   "cell_type": "code",
   "execution_count": 1,
   "metadata": {},
   "outputs": [],
   "source": [
    "from src.model import CausalDiagram as CD\n",
    "from src.msbd import MultiOutcomeSequentialBackdoorCriterion as mSBD\n",
    "from src.sac import SequentialAdjustmentCriterion as SAC\n"
   ]
  },
  {
   "cell_type": "code",
   "execution_count": 2,
   "metadata": {},
   "outputs": [
    {
     "name": "stdout",
     "output_type": "stream",
     "text": [
      "mSBD criterion :  True\n",
      "('Zb', 'X2') is removed\n",
      "('Zc', 'X2') is removed\n",
      "('X1', 'Y1') is removed\n",
      "('Y1', 'X2') is removed\n",
      "-------------------\n",
      "('X2', 'Y2') is removed\n",
      "-------------------\n",
      "('Zb', 'X2') is removed\n",
      "('Zc', 'X2') is removed\n",
      "('X1', 'Y1') is removed\n",
      "('Y1', 'X2') is removed\n",
      "-------------------\n",
      "('X2', 'Y2') is removed\n",
      "-------------------\n"
     ]
    }
   ],
   "source": [
    "# Fig 1 : Graph exemplifying mSBD. \n",
    "\n",
    "G_1 = CD(\n",
    "    vs = {'X1','X2'} | {'Y1','Y2'} | {'Za','Zb','Zc','Zd'},\n",
    "    directed_edges =(('Zb', 'Y1'),\n",
    "    ('Zb', 'X2'),\n",
    "    ('Zb', 'X1'),\n",
    "    ('Zd', 'Y2'),\n",
    "    ('Za', 'Zb'),\n",
    "    ('Za', 'X1'),\n",
    "    ('Zc', 'Zd'),\n",
    "    ('Zc', 'X2'),\n",
    "    ('X2', 'Y2'),\n",
    "    ('X1', 'Y1'),\n",
    "    ('Y1', 'X2')),\n",
    "    bidirected_edges = [\n",
    "    ('Zb', 'Zc', 'U0')\n",
    "    ])\n",
    "\n",
    "xs,ys,zs = {'X1','X2'},{'Y1','Y2'},{'Za','Zb','Zc','Zd'}\n",
    "\n",
    "msbd = mSBD(G_1,xs,ys,zs)\n",
    "\n",
    "# we define Z_1 = {Z_a, Z_b} and Z_2 = {Z_c, Z_d}\n",
    "msbd.set_covariate(1,{'Za','Zb'})\n",
    "msbd.set_covariate(2,{'Zc','Zd'})\n",
    "\n",
    "print('mSBD criterion : ',msbd.criteria())\n",
    "\n",
    "for e in msbd.G.edges:\n",
    "    if e in  msbd.localGraph(1).edges:\n",
    "        pass\n",
    "    else :\n",
    "        print(e, 'is removed')\n",
    "\n",
    "print('-------------------')\n",
    "\n",
    "for e in msbd.G.edges:\n",
    "    if e in  msbd.localGraph(2).edges:\n",
    "        pass\n",
    "    else :\n",
    "        print(e, 'is removed')\n",
    "\n",
    "print('-------------------')\n",
    "\n",
    "# (mSBD -> SAC)\n",
    "sac = SAC(G_1,xs,ys,zs)\n",
    "\n",
    "sac.set_covariate(1,{'Za','Zb'})\n",
    "sac.set_covariate(2,{'Zc','Zd'})\n",
    "\n",
    "for e in sac.G.edges:\n",
    "    if e in  sac.psbd(1).edges:\n",
    "        pass\n",
    "    else :\n",
    "        print(e, 'is removed')\n",
    "\n",
    "print('-------------------')\n",
    "\n",
    "\n",
    "for e in sac.G.edges:\n",
    "    if e in  sac.psbd(2).edges:\n",
    "        pass\n",
    "    else :\n",
    "        print(e, 'is removed')\n",
    "\n",
    "print('-------------------')\n"
   ]
  },
  {
   "cell_type": "code",
   "execution_count": 3,
   "metadata": {},
   "outputs": [
    {
     "name": "stdout",
     "output_type": "stream",
     "text": [
      "True True\n",
      "False True\n",
      "SAC criterion :  True\n",
      "consturcted Z :  [frozenset({'Za', 'Zb'}), frozenset()]\n"
     ]
    }
   ],
   "source": [
    "# Fig 2 - SAC example\n",
    "\n",
    "G_2 = CD(\n",
    "    vs = {'X1', 'X2', 'Y1', 'Y2', 'Za', 'Zb', 'Zc', 'Zd'},\n",
    "    directed_edges=(('X2', 'Y2'),\n",
    "    ('X2', 'Zc'),\n",
    "    ('Zb', 'X1'),\n",
    "    ('Zb', 'X2'),\n",
    "    ('Zb', 'Y1'),\n",
    "    ('Za', 'Zb'),\n",
    "    ('Za', 'X1'),\n",
    "    ('Y1', 'X2'),\n",
    "    ('X1', 'Y1'),\n",
    "    ('Zc', 'Zd')),\n",
    "    bidirected_edges=\n",
    "        ({('X1', 'X2', 'U2'),\n",
    "        ('X1', 'Za', 'U1'),\n",
    "        ('X2', 'Y1', 'U3'),\n",
    "        ('X2', 'Zb', 'U4'),\n",
    "        ('X2', 'Zc', 'U5'),\n",
    "        ('Y2', 'Zd', 'U6'),\n",
    "        ('Zb', 'Zc', 'U0')}))\n",
    "\n",
    "xs,ys,zs = {'X1','X2'}, {'Y1','Y2'}, {'Za','Zb','Zc','Zd'}\n",
    "\n",
    "sac = SAC(G_2,xs,ys,zs)\n",
    "msbd = mSBD(G_2,xs,ys,zs)\n",
    "\n",
    "# set Z:=(Z_1,Z_2) where Z_1 = {Z_a, Z_b} and Z_2 = {Z_c, Z_d}\n",
    "msbd.set_covariate(1,{'Za','Zb'})\n",
    "msbd.set_covariate(2,{'Zc','Zd'})\n",
    "\n",
    "# Z_1 satisfies the mSBD criterion\n",
    "print(msbd.condition1(1),msbd.condition2(1))\n",
    "# However, Z_2 does not satisfy the mSBD criterion (c1)\n",
    "print(msbd.condition1(2),msbd.condition2(2))\n",
    "\n",
    "# Nevertheless, the causal effect is still expressible trough Sequential covariate adjustment\n",
    "\n",
    "sac.set_covariate(1,{'Za','Zb'})\n",
    "sac.set_covariate(2,{'Zc','Zd'})\n",
    "\n",
    "print('SAC criterion : ',sac.criteria())\n",
    "\n",
    "sac.construct()\n",
    "print('consturcted Z : ',sac.Z)"
   ]
  },
  {
   "cell_type": "code",
   "execution_count": 4,
   "metadata": {},
   "outputs": [
    {
     "name": "stdout",
     "output_type": "stream",
     "text": [
      "AC criterion : True\n",
      "SAC criterion : True\n",
      "Z =  frozenset({'Za', 'Zb'})\n"
     ]
    }
   ],
   "source": [
    "# Fig 3 - Van der Zander 2014 \n",
    "\n",
    "G_3 = CD(\n",
    "    vs = {'X1', 'X2', 'Y1', 'Y2', 'Za', 'Zb'},\n",
    "    directed_edges = (('Zb', 'X2'), ('Za', 'Zb'), ('X1', 'Za'), ('X1', 'Y1'), ('Y2', 'Zb'))\n",
    ")\n",
    "\n",
    "xs,ys,zs = {'X1','X2'},{'Y1','Y2'},{'Za','Zb'}\n",
    "\n",
    "sac = SAC(G_3,xs,ys,zs)\n",
    "sac.set_covariate(1,{'Za','Zb'})\n",
    "sac.set_covariate(2,{})\n",
    "\n",
    "ac = sac.to_ac()\n",
    "\n",
    "print('AC criterion :',ac.criteria())\n",
    "print('SAC criterion :',sac.criteria())\n",
    "print('Z = ',ac.zs)\n"
   ]
  },
  {
   "cell_type": "code",
   "execution_count": 6,
   "metadata": {},
   "outputs": [
    {
     "name": "stdout",
     "output_type": "stream",
     "text": [
      "[frozenset(), frozenset({'Zc', 'Za', 'Zb'})]\n",
      "SAC criterion : True\n",
      "[frozenset(), frozenset({'Za'})]\n",
      "SAC criterion : True\n"
     ]
    }
   ],
   "source": [
    "# Fig4\n",
    "\n",
    "G_4 = CD(\n",
    "    vs = {'Y', 'X1', 'X2', 'Zb', 'Zc', 'Za'},\n",
    "    directed_edges= (('X1', 'Zb'), ('X1', 'Za'), ('X1', 'X2'), ('X1', 'Y'), ('Za', 'X2'), ('Zb', 'Za'), ('Zb', 'Zc'), ('X2', 'Y'), ('Zc', 'Za')) ,\n",
    "    bidirected_edges = {('Y', 'Zc', 'U3'), ('X1', 'Zb', 'U0'), ('Y', 'Za', 'U2'), ('X1', 'Za', 'U1')}\n",
    ")\n",
    "sac = SAC(G_4,{'X1','X2'},{'Y'},{'Za','Zb','Zc'})\n",
    "sac.construct()\n",
    "print(sac.Z)\n",
    "print('SAC criterion :',sac.criteria())\n",
    "\n",
    "sac.minsac()\n",
    "print(sac.Z)\n",
    "print('SAC criterion :',sac.criteria())\n"
   ]
  }
 ],
 "metadata": {
  "kernelspec": {
   "display_name": "minsac",
   "language": "python",
   "name": "python3"
  },
  "language_info": {
   "codemirror_mode": {
    "name": "ipython",
    "version": 3
   },
   "file_extension": ".py",
   "mimetype": "text/x-python",
   "name": "python",
   "nbconvert_exporter": "python",
   "pygments_lexer": "ipython3",
   "version": "3.11.0"
  }
 },
 "nbformat": 4,
 "nbformat_minor": 2
}
